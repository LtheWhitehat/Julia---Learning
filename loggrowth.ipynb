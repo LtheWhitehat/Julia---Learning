{
 "cells": [
  {
   "attachments": {},
   "cell_type": "markdown",
   "metadata": {},
   "source": [
    "# Crescimento logaritmico\n",
    "## Método de Euler"
   ]
  },
  {
   "cell_type": "code",
   "execution_count": 1,
   "metadata": {},
   "outputs": [
    {
     "data": {
      "text/plain": [
       "euler_method (generic function with 1 method)"
      ]
     },
     "metadata": {},
     "output_type": "display_data"
    }
   ],
   "source": [
    "function euler_method(f, t0, tf, dt, P0)\n",
    "    t = t0:dt:tf\n",
    "    n = length(t)\n",
    "    P = zeros(n)\n",
    "    P[1] = P0\n",
    "    val = 0.0\n",
    "    for i in 1:n-1\n",
    "        val = P[i] + dt * f(t[i], P[i])\n",
    "        P[i+1] = val\n",
    "    end\n",
    "    \n",
    "    return val\n",
    "end\n"
   ]
  },
  {
   "cell_type": "code",
   "execution_count": 2,
   "metadata": {},
   "outputs": [
    {
     "data": {
      "text/plain": [
       "f (generic function with 1 method)"
      ]
     },
     "metadata": {},
     "output_type": "display_data"
    }
   ],
   "source": [
    "\n",
    "# Função para a equação diferencial: dP/dt = (100 - P) * P / 100\n",
    "function f(t, P)\n",
    "    return (100 - P) * P / 100\n",
    "end\n",
    "\n",
    "\n"
   ]
  },
  {
   "attachments": {},
   "cell_type": "markdown",
   "metadata": {},
   "source": [
    "## Série de Taylor de 2ª ordem"
   ]
  },
  {
   "cell_type": "code",
   "execution_count": 3,
   "metadata": {},
   "outputs": [
    {
     "data": {
      "text/plain": [
       "taylor_method (generic function with 1 method)"
      ]
     },
     "metadata": {},
     "output_type": "display_data"
    }
   ],
   "source": [
    "function taylor_method(f, f_prime, t0, tf, dt, P0)\n",
    "    t = t0:dt:tf\n",
    "    n = length(t)\n",
    "    P = zeros(n)\n",
    "    P[1] = P0\n",
    "    val = 0.0\n",
    "    for i in 1:n-1\n",
    "        val = P[i] + dt * f(t[i], P[i]) + (dt^2 / 2) * f_prime(t[i], P[i])\n",
    "        P[i+1] = val\n",
    "    end\n",
    "    \n",
    "    return val\n",
    "end\n"
   ]
  },
  {
   "cell_type": "code",
   "execution_count": 4,
   "metadata": {},
   "outputs": [
    {
     "data": {
      "text/plain": [
       "f_prime (generic function with 1 method)"
      ]
     },
     "metadata": {},
     "output_type": "display_data"
    }
   ],
   "source": [
    "\n",
    "# Derivada da função para a equação diferencial: d²P/dt² = d/dt((100 - P) * P / 100)\n",
    "function f_prime(t, P)\n",
    "    return (200 * P - 3 * P^2) / 100\n",
    "end\n",
    "\n"
   ]
  },
  {
   "cell_type": "code",
   "execution_count": 5,
   "metadata": {},
   "outputs": [
    {
     "data": {
      "text/plain": [
       "runge_kutta_method (generic function with 1 method)"
      ]
     },
     "metadata": {},
     "output_type": "display_data"
    }
   ],
   "source": [
    "function runge_kutta_method(f, t0, tf, dt, P0)\n",
    "    t = t0:dt:tf\n",
    "    n = length(t)\n",
    "    P = zeros(n)\n",
    "    P[1] = P0\n",
    "    val = 0.0\n",
    "    for i in 1:n-1\n",
    "        k1 = dt * f(t[i], P[i])\n",
    "        k2 = dt * f(t[i] + dt/2, P[i] + k1/2)\n",
    "        k3 = dt * f(t[i] + dt/2, P[i] + k2/2)\n",
    "        k4 = dt * f(t[i] + dt, P[i] + k3)\n",
    "        val = P[i] + (k1 + 2*k2 + 2*k3 + k4) / 6\n",
    "        P[i+1] = val\n",
    "    end \n",
    "    \n",
    "    return val\n",
    "end"
   ]
  },
  {
   "cell_type": "code",
   "execution_count": 8,
   "metadata": {},
   "outputs": [
    {
     "name": "stdout",
     "output_type": "stream",
     "text": [
      "\n",
      "h =0.1\n",
      "Runge-Kutta: 99.95915652218679\n",
      "Euler: 99.9693891905488\n",
      "Taylor: 95.64285620523626\n",
      "\n",
      "h =0.010000000000000002\n",
      "Runge-Kutta: 99.9587464395863\n",
      "Euler: 99.95984905074836\n",
      "Taylor: 99.47146071770666\n",
      "\n",
      "h ="
     ]
    },
    {
     "name": "stdout",
     "output_type": "stream",
     "text": [
      "0.0010000000000000002\n",
      "Runge-Kutta: 99.95911590476922\n",
      "Euler: 99.9592260595199\n",
      "Taylor: 99.90974930836082\n",
      "\n",
      "h =0.00010000000000000003\n",
      "Runge-Kutta: 99.9591526688789\n",
      "Euler: 99.95916368328413\n",
      "Taylor: 99.95420953986967\n",
      "\n",
      "h =1.0000000000000004e-5"
     ]
    },
    {
     "name": "stdout",
     "output_type": "stream",
     "text": [
      "\n",
      "Runge-Kutta: 99.95915634347153\n",
      "Euler: 99.95915744490213\n",
      "Taylor: 99.95866196578513\n"
     ]
    },
    {
     "name": "stdout",
     "output_type": "stream",
     "text": [
      "\n",
      "h =1.0000000000000004e-6\n",
      "Runge-Kutta: 99.9591567109138\n",
      "Euler: 99.95915682104955\n",
      "Taylor: 99.95910727250747\n"
     ]
    },
    {
     "name": "stdout",
     "output_type": "stream",
     "text": [
      "\n",
      "h =1.0000000000000005e-7\n",
      "Runge-Kutta: 99.9591567476553\n",
      "Euler: 99.95915675866924\n",
      "Taylor: 99.9591518088286"
     ]
    },
    {
     "name": "stdout",
     "output_type": "stream",
     "text": [
      "\n"
     ]
    },
    {
     "name": "stdout",
     "output_type": "stream",
     "text": [
      "\n",
      "h =1.0000000000000005e-8\n",
      "Runge-Kutta: 99.95915675132628\n",
      "Euler: 99.9591567524273\n",
      "Taylor: 99.95915675273784\n"
     ]
    }
   ],
   "source": [
    "h = 0.1\n",
    "while h>=10^-8\n",
    "    Prk = runge_kutta_method(f, 0, 10, h, 10)\n",
    "    Pe = euler_method(f, 0, 10, h, 10)\n",
    "    Pt = taylor_method(f, f_prime, 0, 10,h, 10)\n",
    "    println(\"\\nh =\", h, \"\\nRunge-Kutta: \", Prk, \"\\nEuler: \", Pe, \"\\nTaylor: \", Pt)\n",
    "    h = h*0.1\n",
    "end"
   ]
  },
  {
   "cell_type": "code",
   "execution_count": 42,
   "metadata": {},
   "outputs": [],
   "source": []
  }
 ],
 "metadata": {
  "kernelspec": {
   "display_name": "Julia 1.9.1",
   "language": "julia",
   "name": "julia-1.9"
  },
  "language_info": {
   "file_extension": ".jl",
   "mimetype": "application/julia",
   "name": "julia",
   "version": "1.9.1"
  },
  "orig_nbformat": 4
 },
 "nbformat": 4,
 "nbformat_minor": 2
}
