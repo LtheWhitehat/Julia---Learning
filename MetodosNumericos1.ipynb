{
 "cells": [
  {
   "attachments": {},
   "cell_type": "markdown",
   "metadata": {},
   "source": [
    "# Métodos Numéricos\n",
    "## Expressão\n",
    "P = 100*exp(t)/(9 + exp(t)) \n",
    "P' = (900 - 99*exp(t))/(81 +19*exp(t))"
   ]
  },
  {
   "cell_type": "code",
   "execution_count": 1,
   "metadata": {},
   "outputs": [
    {
     "data": {
      "text/plain": [
       "Euler_Method (generic function with 1 method)"
      ]
     },
     "metadata": {},
     "output_type": "display_data"
    }
   ],
   "source": [
    "#Método de Euler\n",
    "function Euler_Method(h, limite)\n",
    "    println(\"Método de Euler\")\n",
    "    t=0\n",
    "    P = 100*exp(t)/(9 + exp(t))\n",
    "    dP = (900 - 99*exp(t))/(81 +19*exp(t))\n",
    "    while t < limite\n",
    "        P = P + h*dP\n",
    "        t = t + h\n",
    "        #println(\"t = \", t, \" P = \", P)\n",
    "    end\n",
    "   display(P)\n",
    "end"
   ]
  },
  {
   "cell_type": "code",
   "execution_count": 2,
   "metadata": {},
   "outputs": [
    {
     "data": {
      "text/plain": [
       "90.1008009999425"
      ]
     },
     "metadata": {},
     "output_type": "display_data"
    },
    {
     "data": {
      "text/plain": [
       "nothing"
      ]
     },
     "metadata": {},
     "output_type": "display_data"
    },
    {
     "name": "stdout",
     "output_type": "stream",
     "text": [
      "Método de Euler"
     ]
    },
    {
     "name": "stdout",
     "output_type": "stream",
     "text": [
      "\n"
     ]
    }
   ],
   "source": [
    "display(Euler_Method(0.0001, 10))"
   ]
  },
  {
   "cell_type": "code",
   "execution_count": 5,
   "metadata": {},
   "outputs": [
    {
     "data": {
      "text/plain": [
       "90.09999601031026"
      ]
     },
     "metadata": {},
     "output_type": "display_data"
    },
    {
     "name": "stdout",
     "output_type": "stream",
     "text": [
      "Método de Euler\n"
     ]
    },
    {
     "data": {
      "text/plain": [
       "90.10000014985864"
      ]
     },
     "metadata": {},
     "output_type": "display_data"
    },
    {
     "name": "stdout",
     "output_type": "stream",
     "text": [
      "Método de Euler\n"
     ]
    },
    {
     "data": {
      "text/plain": [
       "90.09999999887626"
      ]
     },
     "metadata": {},
     "output_type": "display_data"
    },
    {
     "name": "stdout",
     "output_type": "stream",
     "text": [
      "Método de Euler\n"
     ]
    },
    {
     "data": {
      "text/plain": [
       "90.10001281127253"
      ]
     },
     "metadata": {},
     "output_type": "display_data"
    },
    {
     "data": {
      "text/plain": [
       "90.10025632023736"
      ]
     },
     "metadata": {},
     "output_type": "display_data"
    },
    {
     "data": {
      "text/plain": [
       "90.09999999998911"
      ]
     },
     "metadata": {},
     "output_type": "display_data"
    },
    {
     "data": {
      "text/plain": [
       "90.17689600000143"
      ]
     },
     "metadata": {},
     "output_type": "display_data"
    },
    {
     "data": {
      "text/plain": [
       "92.02240000000002"
      ]
     },
     "metadata": {},
     "output_type": "display_data"
    },
    {
     "data": {
      "text/plain": [
       "92.02239999999999"
      ]
     },
     "metadata": {},
     "output_type": "display_data"
    },
    {
     "name": "stdout",
     "output_type": "stream",
     "text": [
      "Método de Euler\n",
      "Método de Euler\n",
      "Método de Euler\n",
      "Método de Euler\n",
      "Método de Euler\n",
      "Método de Euler\n"
     ]
    }
   ],
   "source": [
    "h = 10^-11\n",
    "while h < 1\n",
    "    h = h *20\n",
    "    Euler_Method(h, 10)\n",
    "end"
   ]
  }
 ],
 "metadata": {
  "kernelspec": {
   "display_name": "Julia 1.9.1",
   "language": "julia",
   "name": "julia-1.9"
  },
  "language_info": {
   "file_extension": ".jl",
   "mimetype": "application/julia",
   "name": "julia",
   "version": "1.9.1"
  },
  "orig_nbformat": 4
 },
 "nbformat": 4,
 "nbformat_minor": 2
}
