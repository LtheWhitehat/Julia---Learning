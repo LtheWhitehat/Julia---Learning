{
 "cells": [
  {
   "cell_type": "markdown",
   "metadata": {},
   "source": [
    "# 1"
   ]
  },
  {
   "cell_type": "code",
   "execution_count": 56,
   "metadata": {},
   "outputs": [
    {
     "name": "stdout",
     "output_type": "stream",
     "text": [
      "Requirement already satisfied: pandas in c:\\users\\lenovo\\appdata\\local\\packages\\pythonsoftwarefoundation.python.3.11_qbz5n2kfra8p0\\localcache\\local-packages\\python311\\site-packages (2.0.3)"
     ]
    },
    {
     "name": "stderr",
     "output_type": "stream",
     "text": [
      "\n",
      "[notice] A new release of pip is available: 23.1.2 -> 23.2.1\n",
      "[notice] To update, run: C:\\Users\\Lenovo\\AppData\\Local\\Microsoft\\WindowsApps\\PythonSoftwareFoundation.Python.3.11_qbz5n2kfra8p0\\python.exe -m pip install --upgrade pip\n"
     ]
    },
    {
     "name": "stdout",
     "output_type": "stream",
     "text": [
      "\n",
      "Requirement already satisfied: python-dateutil>=2.8.2 in c:\\users\\lenovo\\appdata\\local\\packages\\pythonsoftwarefoundation.python.3.11_qbz5n2kfra8p0\\localcache\\local-packages\\python311\\site-packages (from pandas) (2.8.2)\n",
      "Requirement already satisfied: pytz>=2020.1 in c:\\users\\lenovo\\appdata\\local\\packages\\pythonsoftwarefoundation.python.3.11_qbz5n2kfra8p0\\localcache\\local-packages\\python311\\site-packages (from pandas) (2023.3)\n",
      "Requirement already satisfied: tzdata>=2022.1 in c:\\users\\lenovo\\appdata\\local\\packages\\pythonsoftwarefoundation.python.3.11_qbz5n2kfra8p0\\localcache\\local-packages\\python311\\site-packages (from pandas) (2023.3)\n",
      "Requirement already satisfied: numpy>=1.21.0 in c:\\users\\lenovo\\appdata\\local\\packages\\pythonsoftwarefoundation.python.3.11_qbz5n2kfra8p0\\localcache\\local-packages\\python311\\site-packages (from pandas) (1.25.1)\n",
      "Requirement already satisfied: six>=1.5 in c:\\users\\lenovo\\appdata\\local\\packages\\pythonsoftwarefoundation.python.3.11_qbz5n2kfra8p0\\localcache\\local-packages\\python311\\site-packages (from python-dateutil>=2.8.2->pandas) (1.16.0)\n"
     ]
    }
   ],
   "source": [
    "!pip install pandas"
   ]
  },
  {
   "cell_type": "code",
   "execution_count": null,
   "metadata": {},
   "outputs": [],
   "source": []
  },
  {
   "cell_type": "code",
   "execution_count": 57,
   "metadata": {},
   "outputs": [],
   "source": [
    "import numpy as np\n",
    "from scipy.integrate import odeint, solve_ivp"
   ]
  },
  {
   "cell_type": "code",
   "execution_count": 58,
   "metadata": {},
   "outputs": [],
   "source": [
    "import numpy as np\n",
    "import math \n",
    "import pandas as pd\n",
    "%matplotlib inline\n",
    "import matplotlib.pyplot as plt # side-stepping mpl backend\n",
    "import matplotlib.gridspec as gridspec # subplots\n",
    "import warnings\n",
    "\n",
    "warnings.filterwarnings(\"ignore\")"
   ]
  },
  {
   "cell_type": "code",
   "execution_count": 59,
   "metadata": {},
   "outputs": [
    {
     "data": {
      "text/plain": [
       "Text(0.5, 1.0, 'Illustration of discrete time points for h=0.5')"
      ]
     },
     "execution_count": 59,
     "metadata": {},
     "output_type": "execute_result"
    },
    {
     "data": {
      "image/png": "[encoded data removed]",
      "text/plain": [
       "<Figure size 1000x400 with 1 Axes>"
      ]
     },
     "metadata": {},
     "output_type": "display_data"
    }
   ],
   "source": [
    "def func(x,y):\n",
    "    dydx = -x*y\n",
    "    return dydx\n",
    "\n",
    "\n",
    "# Start and end of interval\n",
    "b=2\n",
    "a=0\n",
    "# Step size\n",
    "N=4\n",
    "h=0.5\n",
    "t=np.arange(a,b+h,h)\n",
    "fig = plt.figure(figsize=(10,4))\n",
    "plt.plot(t,0*t,'o:',color='red')\n",
    "plt.xlim((0,2))\n",
    "plt.title('Illustration of discrete time points for h=%s'%(h))"
   ]
  },
  {
   "cell_type": "code",
   "execution_count": 60,
   "metadata": {},
   "outputs": [],
   "source": [
    "IC=y0 # Intial condtion\n"
   ]
  },
  {
   "cell_type": "code",
   "execution_count": null,
   "metadata": {},
   "outputs": [],
   "source": []
  },
  {
   "cell_type": "code",
   "execution_count": null,
   "metadata": {},
   "outputs": [],
   "source": []
  },
  {
   "cell_type": "code",
   "execution_count": 61,
   "metadata": {},
   "outputs": [
    {
     "ename": "IndexError",
     "evalue": "invalid index to scalar variable.",
     "output_type": "error",
     "traceback": [
      "\u001b[1;31m---------------------------------------------------------------------------\u001b[0m",
      "\u001b[1;31mIndexError\u001b[0m                                Traceback (most recent call last)",
      "Cell \u001b[1;32mIn[61], line 4\u001b[0m\n\u001b[0;32m      2\u001b[0m w\u001b[39m=\u001b[39mnp\u001b[39m.\u001b[39mzeros(\u001b[39mlen\u001b[39m(t))\n\u001b[0;32m      3\u001b[0m w[\u001b[39m0\u001b[39m]\u001b[39m=\u001b[39mIC\n\u001b[1;32m----> 4\u001b[0m w[\u001b[39m1\u001b[39m]\u001b[39m=\u001b[39my[\u001b[39m1\u001b[39;49m] \u001b[39m# NEED FOR THE METHOD\u001b[39;00m\n\u001b[0;32m      5\u001b[0m \u001b[39mfor\u001b[39;00m k \u001b[39min\u001b[39;00m \u001b[39mrange\u001b[39m (\u001b[39m1\u001b[39m,N):\n\u001b[0;32m      6\u001b[0m     w[k\u001b[39m+\u001b[39m\u001b[39m1\u001b[39m]\u001b[39m=\u001b[39mw[k]\u001b[39m+\u001b[39mh\u001b[39m/\u001b[39m\u001b[39m2.0\u001b[39m\u001b[39m*\u001b[39m(\u001b[39m3\u001b[39m\u001b[39m*\u001b[39mfunc(t[k], w[k])\u001b[39m-\u001b[39mfunc(t[k\u001b[39m-\u001b[39m\u001b[39m1\u001b[39m],w[k\u001b[39m-\u001b[39m\u001b[39m1\u001b[39m]))  \n",
      "\u001b[1;31mIndexError\u001b[0m: invalid index to scalar variable."
     ]
    }
   ],
   "source": [
    "### Initial conditions\n",
    "w=np.zeros(len(t))\n",
    "w[0]=IC\n",
    "w[1]=y[1] # NEED FOR THE METHOD\n",
    "for k in range (1,N):\n",
    "    w[k+1]=w[k]+h/2.0*(3*func(t[k], w[k])-func(t[k-1],w[k-1]))  \n",
    "def plotting(t,w,y):\n",
    "    fig = plt.figure(figsize=(10,4))\n",
    "    #plt.plot(t,y, 'o-',color='black',label='Exact')\n",
    "    plt.plot(t,w,'s:',color='blue',label='Adams-Bashforth')\n",
    "    plt.xlabel('time')\n",
    "    plt.legend()\n",
    "    plt.show\n",
    "\n",
    "plotting(t,w,y)"
   ]
  },
  {
   "cell_type": "code",
   "execution_count": null,
   "metadata": {},
   "outputs": [
    {
     "data": {
      "text/plain": [
       "(array([0. , 0.5, 1. , 1.5, 2. ]),\n",
       " array([1.        , 0.88248698, 0.60649435, 0.32491474, 0.17182498]))"
      ]
     },
     "execution_count": 13,
     "metadata": {},
     "output_type": "execute_result"
    }
   ],
   "source": [
    "\n",
    "#dy_dx = -x*y\n",
    "def dy_dx(x,y):\n",
    "    dydx = -x*y\n",
    "    return dydx\n",
    "x_init = 0\n",
    "y_init = 1\n",
    "step_size = 0.5\n",
    "def adams_bashforth_4th_order(dy_dx, x_init, y_init, x_final, step_size):\n",
    "    num_steps = int((x_final - x_init) / step_size) + 1\n",
    "    x_values = np.linspace(x_init, x_final, num_steps)\n",
    "    y_values = np.zeros(num_steps)\n",
    "    y_values[0] = y_init\n",
    "\n",
    "    for i in range(1, 4):\n",
    "        k1 = step_size * dy_dx(x_values[i - 1], y_values[i - 1])\n",
    "        k2 = step_size * dy_dx(x_values[i - 1] + step_size / 2, y_values[i - 1] + k1 / 2)\n",
    "        k3 = step_size * dy_dx(x_values[i - 1] + step_size / 2, y_values[i - 1] + k2 / 2)\n",
    "        k4 = step_size * dy_dx(x_values[i - 1] + step_size, y_values[i - 1] + k3)\n",
    "\n",
    "        y_values[i] = y_values[i - 1] + (k1 + 2 * k2 + 2 * k3 + k4) / 6\n",
    "\n",
    "    for i in range(4, num_steps):\n",
    "        y_values[i] = y_values[i - 1] + (step_size / 24) * (\n",
    "            55 * dy_dx(x_values[i - 1], y_values[i - 1])\n",
    "            - 59 * dy_dx(x_values[i - 2], y_values[i - 2])\n",
    "            + 37 * dy_dx(x_values[i - 3], y_values[i - 3])\n",
    "            - 9 * dy_dx(x_values[i - 4], y_values[i - 4])\n",
    "        )\n",
    "\n",
    "    return x_values, y_values\n",
    "\n",
    "adams_bashforth_4th_order(dy_dx, x_init, y_init, 2, step_size)\n"
   ]
  },
  {
   "cell_type": "code",
   "execution_count": 101,
   "metadata": {},
   "outputs": [
    {
     "data": {
      "text/plain": [
       "(array([  1.        ,   1.70833333,   5.33506944,  16.86581308,\n",
       "         49.36259894, 138.19029588]),\n",
       " array([  1.        ,   1.70833333,   5.33506944,  16.86581308,\n",
       "         49.36259894, 138.19029588]))"
      ]
     },
     "execution_count": 101,
     "metadata": {},
     "output_type": "execute_result"
    }
   ],
   "source": [
    "import numpy as np\n",
    "def dy_dx(x,y):\n",
    "    return (x+y-1)\n",
    "    # return -x*y\n",
    "x_init = 0\n",
    "y_init = 1\n",
    "step_size = 1\n",
    "def adams_bashforth_moulton(dy_dx, x_init, y_init, x_final, step_size):\n",
    "    num_steps = int((x_final - x_init) / step_size) + 1\n",
    "    x_values = np.linspace(x_init, x_final, num_steps)\n",
    "    y_values = np.zeros(num_steps)\n",
    "    y_values[0] = y_init\n",
    "\n",
    "    # Use Adams-Bashforth 4th order for the first 4 steps\n",
    "    for i in range(1, 4):\n",
    "        k1 = step_size * dy_dx(x_values[i - 1], y_values[i - 1])\n",
    "        k2 = step_size * dy_dx(x_values[i - 1] + step_size / 2, y_values[i - 1] + k1 / 2)\n",
    "        k3 = step_size * dy_dx(x_values[i - 1] + step_size / 2, y_values[i - 1] + k2 / 2)\n",
    "        k4 = step_size * dy_dx(x_values[i - 1] + step_size, y_values[i - 1] + k3)\n",
    "\n",
    "        y_values[i] = y_values[i - 1] + (k1 + 2 * k2 + 2 * k3 + k4) / 6\n",
    "        bash = y_values\n",
    "    # Use Adams-Moulton 3rd order for the remaining steps\n",
    "    for i in range(3, num_steps - 1):\n",
    "        predictor = y_values[i] + (step_size / 24) * (\n",
    "            55 * dy_dx(x_values[i], y_values[i])\n",
    "            - 59 * dy_dx(x_values[i - 1], y_values[i - 1])\n",
    "            + 37 * dy_dx(x_values[i - 2], y_values[i - 2])\n",
    "            - 9 * dy_dx(x_values[i - 3], y_values[i - 3])\n",
    "        )\n",
    "\n",
    "        corrector = y_values[i] + (step_size / 24) * (\n",
    "            9 * dy_dx(x_values[i + 1], predictor)\n",
    "            + 19 * dy_dx(x_values[i], y_values[i])\n",
    "            - 5 * dy_dx(x_values[i - 1], y_values[i - 1])\n",
    "            + dy_dx(x_values[i - 2], y_values[i - 2])\n",
    "        )\n",
    "\n",
    "        y_values[i + 1] = corrector\n",
    "\n",
    "    moultn = y_values\n",
    "    return bash, moultn\n",
    "\n",
    "adams_bashforth_moulton(dy_dx, x_init, y_init, 5, step_size)\n"
   ]
  },
  {
   "cell_type": "code",
   "execution_count": 104,
   "metadata": {},
   "outputs": [],
   "source": [
    "import numpy as np\n",
    "def dy_dx(x,y):\n",
    "    return (x+y-1)\n",
    "\n",
    "x_init = 0\n",
    "y_init =1\n",
    "x_final = 4\n",
    "step_size = 0.2\n",
    "def adams_bashforth_4th_order(dy_dx, x_init, y_init, x_final, step_size):\n",
    "    num_steps = int((x_final - x_init) / step_size) + 1\n",
    "    x_values = np.linspace(x_init, x_final, num_steps)\n",
    "    y_values = np.zeros(num_steps)\n",
    "    y_values[0] = y_init\n",
    "\n",
    "    for i in range(1, 4):\n",
    "        k1 = step_size * dy_dx(x_values[i - 1], y_values[i - 1])\n",
    "        k2 = step_size * dy_dx(x_values[i - 1] + step_size / 2, y_values[i - 1] + k1 / 2)\n",
    "        k3 = step_size * dy_dx(x_values[i - 1] + step_size / 2, y_values[i - 1] + k2 / 2)\n",
    "        k4 = step_size * dy_dx(x_values[i - 1] + step_size, y_values[i - 1] + k3)\n",
    "\n",
    "        y_values[i] = y_values[i - 1] + (k1 + 2 * k2 + 2 * k3 + k4) / 6\n",
    "\n",
    "\n",
    "    return x_values, y_values\n"
   ]
  },
  {
   "cell_type": "code",
   "execution_count": 105,
   "metadata": {},
   "outputs": [
    {
     "data": {
      "text/plain": [
       "(array([0. , 0.2, 0.4, 0.6, 0.8, 1. , 1.2, 1.4, 1.6, 1.8, 2. , 2.2, 2.4,\n",
       "        2.6, 2.8, 3. , 3.2, 3.4, 3.6, 3.8, 4. ]),\n",
       " array([1.        , 1.0214    , 1.09181796, 1.22210646, 0.        ,\n",
       "        0.        , 0.        , 0.        , 0.        , 0.        ,\n",
       "        0.        , 0.        , 0.        , 0.        , 0.        ,\n",
       "        0.        , 0.        , 0.        , 0.        , 0.        ,\n",
       "        0.        ]))"
      ]
     },
     "execution_count": 105,
     "metadata": {},
     "output_type": "execute_result"
    }
   ],
   "source": [
    "adams_bashforth_4th_order(dy_dx, x_init, y_init, x_final, step_size)"
   ]
  },
  {
   "cell_type": "markdown",
   "metadata": {},
   "source": []
  },
  {
   "cell_type": "code",
   "execution_count": 113,
   "metadata": {},
   "outputs": [
    {
     "name": "stdout",
     "output_type": "stream",
     "text": [
      "[-121.16828148536831, 9.7, 15.399999999999999, 24.107999999999997, 37.3184, 57.23984, 87.127488, 131.76688000000001, 198.17738752000002, 296.633600256, 442.14640117760007]\n"
     ]
    }
   ],
   "source": [
    "import numpy as np\n",
    "def dy_dx(x,y):\n",
    "    return (x+y-1)\n",
    "\n",
    "x_init = 0\n",
    "y_init =1\n",
    "x_final = 1\n",
    "step_size = 0.2\n",
    "\n",
    "def moulton(dy_dx, x_init, y_init, x_final, step_size):\n",
    "    for i in range(0, num_steps):\n",
    "        predictor = y_values[i] + (step_size / 24) * (\n",
    "            55 * dy_dx(x_values[i], y_values[i])\n",
    "            - 59 * dy_dx(x_values[i - 1], y_values[i - 1])\n",
    "            + 37 * dy_dx(x_values[i - 2], y_values[i - 2])\n",
    "            - 9 * dy_dx(x_values[i - 3], y_values[i - 3])\n",
    "        )\n",
    "\n",
    "        corrector = y_values[i] + (step_size / 24) * (\n",
    "            9 * dy_dx(x_values[i + 1], predictor)\n",
    "            + 19 * dy_dx(x_values[i], y_values[i])\n",
    "            - 5 * dy_dx(x_values[i - 1], y_values[i - 1])\n",
    "            + dy_dx(x_values[i - 2], y_values[i - 2])\n",
    "        )\n",
    "\n",
    "        y_values[i] = corrector\n",
    "        return y_values\n",
    "\n",
    "print(moulton(dy_dx, x_init, y_init, x_final, step_size))\n",
    "\n",
    "def adams_bashforth_1st_order(dy_dx, x_init, y_init, x_final, step_size):\n",
    "    num_steps = int((x_final - x_init) / step_size) + 1\n",
    "    x_values = np.linspace(x_init, x_final, num_steps)\n",
    "    y_values = np.zeros(num_steps+1)\n",
    "    y_values[0] = y_init\n",
    "\n",
    "    for i in range(1, num_steps):\n",
    "        y_values[i] = y_values[i-1] + step_size * dy_dx(x_values[i-1], y_values[i-1])\n",
    "\n",
    "    return x_values, y_values\n",
    "\n",
    "#adams_bashforth_1st_order(dy_dx, x_init, y_init, x_final, step_size)\n"
   ]
  },
  {
   "cell_type": "markdown",
   "metadata": {},
   "source": [
    "# 3"
   ]
  },
  {
   "cell_type": "code",
   "execution_count": 64,
   "metadata": {},
   "outputs": [
    {
     "name": "stdout",
     "output_type": "stream",
     "text": [
      "[-1, 1.2000000000000002, 5.32, 12.544, 24.695999999999998, 44.56256, 76.37100799999999, 126.49620479999999, 204.50219776, 324.67359232, 508.2617508864]\n",
      "[6, 9.7, 15.399999999999999, 24.107999999999997, 37.3184, 57.23984, 87.127488, 131.76688000000001, 198.17738752000002, 296.633600256, 442.14640117760007]\n"
     ]
    }
   ],
   "source": [
    "def euler_method(x0, y0, h, num_steps):\n",
    "    # Initialize lists to store the results\n",
    "    x_values = [x0]\n",
    "    y_values = [y0]\n",
    "\n",
    "    # Perform the Euler method iterations\n",
    "    for i in range(num_steps):\n",
    "        dx_dt = 2 * x_values[i] + 4 * y_values[i]\n",
    "        dy_dt = -x_values[i] + 6 * y_values[i]\n",
    "\n",
    "        x_next = x_values[i] + h * dx_dt\n",
    "        y_next = y_values[i] + h * dy_dt\n",
    "\n",
    "        # Append the next values to the lists\n",
    "        x_values.append(x_next)\n",
    "        y_values.append(y_next)\n",
    "\n",
    "    return x_values, y_values\n",
    "\n",
    "# Initial conditions\n",
    "x0 = -1\n",
    "y0 = 6\n",
    "\n",
    "# Step size and number of steps\n",
    "h = 0.1\n",
    "num_steps = 10  # You can increase this value for a more accurate result\n",
    "\n",
    "# Applying the Euler method\n",
    "x_values, y_values = euler_method(x0, y0, h, num_steps)\n",
    "\n",
    "# Printing the results\n",
    "print(x_values)\n",
    "print(y_values)\n"
   ]
  },
  {
   "cell_type": "code",
   "execution_count": 66,
   "metadata": {},
   "outputs": [
    {
     "data": {
      "text/plain": [
       "([0, 0.01], [1, 1.01])"
      ]
     },
     "execution_count": 66,
     "metadata": {},
     "output_type": "execute_result"
    }
   ],
   "source": [
    "def func(x):\n",
    "    dydx = x**3 + x**2 + x + 1 \n",
    "    return dydx\n",
    "\n",
    "deltaX = 0.01\n",
    "h = 0.01\n",
    "num_steps=1\n",
    "y0 = 1\n",
    "\n",
    "\n",
    "def Euler(x0, y0, h, num_steps):\n",
    "    x_values = [x0]\n",
    "    y_values = [y0]\n",
    "    for i in range(num_steps):\n",
    "        dydx = func(x_values[i])\n",
    "        y_next = y_values[i] + h * dydx\n",
    "        x_next = x_values[i] + h\n",
    "        x_values.append(x_next)\n",
    "        y_values.append(y_next)\n",
    "    return x_values, y_values       \n",
    "\n",
    "Euler(0, 1, 0.01, 1)"
   ]
  },
  {
   "cell_type": "code",
   "execution_count": 81,
   "metadata": {},
   "outputs": [],
   "source": [
    "def Euler(x0, y0, h, num_steps):\n",
    "    x_values = [x0]\n",
    "    y_values = [y0]\n",
    "    for i in range(num_steps):\n",
    "        dydx = func(x_values[i-1])\n",
    "        y_next = y_values[i-1] + h * dydx\n",
    "        x_next = x_values[i-1] + h\n",
    "        x_values.append(x_next)\n",
    "        y_values.append(y_next)\n",
    "    return x_values, y_values   "
   ]
  },
  {
   "cell_type": "markdown",
   "metadata": {},
   "source": [
    "# 5"
   ]
  },
  {
   "cell_type": "code",
   "execution_count": 98,
   "metadata": {},
   "outputs": [
    {
     "name": "stdout",
     "output_type": "stream",
     "text": [
      "0\t2.0\t2.718281828459045\n",
      "1\t2.1\t2.8541959198819975\n",
      "2\t2.2\t2.996741282138415\n",
      "3\t2.3000000000000003\t3.1462412753733955\n",
      "[2.  2.1 2.2 2.3 2.4 2.6] [2.71828183 2.85419592 2.99674128 3.14624128 3.30303469]\n"
     ]
    }
   ],
   "source": [
    "def func(x,y):\n",
    "    dydx = (y*np.log(y))/x\n",
    "    return dydx\n",
    "\n",
    "x0 = 2\n",
    "y0 = np.exp(1)\n",
    "x = np.linspace(2, 2.6, 6)\n",
    "y = np.zeros(5)\n",
    "y[0] = y0\n",
    "x[0] = x0\n",
    "h = 0.1\n",
    "for i in range(1,5):\n",
    "    \n",
    "    y[i] = y[i-1] + h*func(x[i-1],y[i-1])\n",
    "    x[i] = x[i-1] + h\n",
    "    print(f\"{i-1}\\t{x[i-1]}\\t{y[i-1]}\")\n",
    "\n",
    "print(x,y)"
   ]
  },
  {
   "cell_type": "code",
   "execution_count": 99,
   "metadata": {},
   "outputs": [
    {
     "ename": "KeyboardInterrupt",
     "evalue": "",
     "output_type": "error",
     "traceback": [
      "\u001b[1;31m---------------------------------------------------------------------------\u001b[0m",
      "\u001b[1;31mKeyboardInterrupt\u001b[0m                         Traceback (most recent call last)",
      "Cell \u001b[1;32mIn[99], line 6\u001b[0m\n\u001b[0;32m      2\u001b[0m     dydx \u001b[39m=\u001b[39m x\u001b[39m+\u001b[39my\u001b[39m-\u001b[39m\u001b[39m1\u001b[39m\n\u001b[0;32m      4\u001b[0m y0 \u001b[39m=\u001b[39m \u001b[39m1\u001b[39m\n\u001b[1;32m----> 6\u001b[0m solution \u001b[39m=\u001b[39m solve_ivp(dydx, [\u001b[39m0\u001b[39;49m, \u001b[39m1\u001b[39;49m], [y0], t_eval\u001b[39m=\u001b[39;49mnp\u001b[39m.\u001b[39;49mlinspace(\u001b[39m0\u001b[39;49m, \u001b[39m1\u001b[39;49m, \u001b[39m11\u001b[39;49m))\n",
      "File \u001b[1;32m~\\AppData\\Local\\Packages\\PythonSoftwareFoundation.Python.3.11_qbz5n2kfra8p0\\LocalCache\\local-packages\\Python311\\site-packages\\scipy\\integrate\\_ivp\\ivp.py:602\u001b[0m, in \u001b[0;36msolve_ivp\u001b[1;34m(fun, t_span, y0, method, t_eval, dense_output, events, vectorized, args, **options)\u001b[0m\n\u001b[0;32m    600\u001b[0m status \u001b[39m=\u001b[39m \u001b[39mNone\u001b[39;00m\n\u001b[0;32m    601\u001b[0m \u001b[39mwhile\u001b[39;00m status \u001b[39mis\u001b[39;00m \u001b[39mNone\u001b[39;00m:\n\u001b[1;32m--> 602\u001b[0m     message \u001b[39m=\u001b[39m solver\u001b[39m.\u001b[39;49mstep()\n\u001b[0;32m    604\u001b[0m     \u001b[39mif\u001b[39;00m solver\u001b[39m.\u001b[39mstatus \u001b[39m==\u001b[39m \u001b[39m'\u001b[39m\u001b[39mfinished\u001b[39m\u001b[39m'\u001b[39m:\n\u001b[0;32m    605\u001b[0m         status \u001b[39m=\u001b[39m \u001b[39m0\u001b[39m\n",
      "File \u001b[1;32m~\\AppData\\Local\\Packages\\PythonSoftwareFoundation.Python.3.11_qbz5n2kfra8p0\\LocalCache\\local-packages\\Python311\\site-packages\\scipy\\integrate\\_ivp\\base.py:197\u001b[0m, in \u001b[0;36mOdeSolver.step\u001b[1;34m(self)\u001b[0m\n\u001b[0;32m    195\u001b[0m \u001b[39melse\u001b[39;00m:\n\u001b[0;32m    196\u001b[0m     t \u001b[39m=\u001b[39m \u001b[39mself\u001b[39m\u001b[39m.\u001b[39mt\n\u001b[1;32m--> 197\u001b[0m     success, message \u001b[39m=\u001b[39m \u001b[39mself\u001b[39;49m\u001b[39m.\u001b[39;49m_step_impl()\n\u001b[0;32m    199\u001b[0m     \u001b[39mif\u001b[39;00m \u001b[39mnot\u001b[39;00m success:\n\u001b[0;32m    200\u001b[0m         \u001b[39mself\u001b[39m\u001b[39m.\u001b[39mstatus \u001b[39m=\u001b[39m \u001b[39m'\u001b[39m\u001b[39mfailed\u001b[39m\u001b[39m'\u001b[39m\n",
      "File \u001b[1;32m~\\AppData\\Local\\Packages\\PythonSoftwareFoundation.Python.3.11_qbz5n2kfra8p0\\LocalCache\\local-packages\\Python311\\site-packages\\scipy\\integrate\\_ivp\\rk.py:144\u001b[0m, in \u001b[0;36mRungeKutta._step_impl\u001b[1;34m(self)\u001b[0m\n\u001b[0;32m    141\u001b[0m h \u001b[39m=\u001b[39m t_new \u001b[39m-\u001b[39m t\n\u001b[0;32m    142\u001b[0m h_abs \u001b[39m=\u001b[39m np\u001b[39m.\u001b[39mabs(h)\n\u001b[1;32m--> 144\u001b[0m y_new, f_new \u001b[39m=\u001b[39m rk_step(\u001b[39mself\u001b[39;49m\u001b[39m.\u001b[39;49mfun, t, y, \u001b[39mself\u001b[39;49m\u001b[39m.\u001b[39;49mf, h, \u001b[39mself\u001b[39;49m\u001b[39m.\u001b[39;49mA,\n\u001b[0;32m    145\u001b[0m                        \u001b[39mself\u001b[39;49m\u001b[39m.\u001b[39;49mB, \u001b[39mself\u001b[39;49m\u001b[39m.\u001b[39;49mC, \u001b[39mself\u001b[39;49m\u001b[39m.\u001b[39;49mK)\n\u001b[0;32m    146\u001b[0m scale \u001b[39m=\u001b[39m atol \u001b[39m+\u001b[39m np\u001b[39m.\u001b[39mmaximum(np\u001b[39m.\u001b[39mabs(y), np\u001b[39m.\u001b[39mabs(y_new)) \u001b[39m*\u001b[39m rtol\n\u001b[0;32m    147\u001b[0m error_norm \u001b[39m=\u001b[39m \u001b[39mself\u001b[39m\u001b[39m.\u001b[39m_estimate_error_norm(\u001b[39mself\u001b[39m\u001b[39m.\u001b[39mK, h, scale)\n",
      "File \u001b[1;32m~\\AppData\\Local\\Packages\\PythonSoftwareFoundation.Python.3.11_qbz5n2kfra8p0\\LocalCache\\local-packages\\Python311\\site-packages\\scipy\\integrate\\_ivp\\rk.py:66\u001b[0m, in \u001b[0;36mrk_step\u001b[1;34m(fun, t, y, f, h, A, B, C, K)\u001b[0m\n\u001b[0;32m     63\u001b[0m     dy \u001b[39m=\u001b[39m np\u001b[39m.\u001b[39mdot(K[:s]\u001b[39m.\u001b[39mT, a[:s]) \u001b[39m*\u001b[39m h\n\u001b[0;32m     64\u001b[0m     K[s] \u001b[39m=\u001b[39m fun(t \u001b[39m+\u001b[39m c \u001b[39m*\u001b[39m h, y \u001b[39m+\u001b[39m dy)\n\u001b[1;32m---> 66\u001b[0m y_new \u001b[39m=\u001b[39m y \u001b[39m+\u001b[39m h \u001b[39m*\u001b[39m np\u001b[39m.\u001b[39;49mdot(K[:\u001b[39m-\u001b[39;49m\u001b[39m1\u001b[39;49m]\u001b[39m.\u001b[39;49mT, B)\n\u001b[0;32m     67\u001b[0m f_new \u001b[39m=\u001b[39m fun(t \u001b[39m+\u001b[39m h, y_new)\n\u001b[0;32m     69\u001b[0m K[\u001b[39m-\u001b[39m\u001b[39m1\u001b[39m] \u001b[39m=\u001b[39m f_new\n",
      "\u001b[1;31mKeyboardInterrupt\u001b[0m: "
     ]
    }
   ],
   "source": [
    "def dydx(x,y):\n",
    "    dydx = x+y-1\n",
    "    \n",
    "y0 = 1\n",
    "\n",
    "solution = solve_ivp(dydx, [0, 1], [y0], t_eval=np.linspace(0, 1, 11))"
   ]
  },
  {
   "cell_type": "code",
   "execution_count": 117,
   "metadata": {},
   "outputs": [
    {
     "name": "stdout",
     "output_type": "stream",
     "text": [
      "i=0\tx=1.5\ty=2\tz=24\n",
      "i=1\tx=1.6\ty=4.4\tz=28.6\n",
      "i=2\tx=1.7000000000000002\ty=7.260000000000001\tz=38.64\n",
      "i=3\tx=1.8000000000000003\ty=11.124\tz=60.08428000000001\n"
     ]
    }
   ],
   "source": [
    "def euler_method(x0, y0, z0, h, num_steps):\n",
    "    # Initialize lists to store the results\n",
    "    x_values = [x0]\n",
    "    y_values = [y0]\n",
    "    z_values = [z0]\n",
    "\n",
    "    # Perform the Euler method iterations\n",
    "    for i in range(num_steps):\n",
    "        x = x_values[-1]\n",
    "        y = y_values[-1]\n",
    "        z = z_values[-1]\n",
    "\n",
    "        dy_dt = z\n",
    "        dz_dt = 12 * x**2 + 3 * y**2 + z - 17\n",
    "\n",
    "        x_next = x + h\n",
    "        y_next = y + h * dy_dt\n",
    "        z_next = z + h * dz_dt\n",
    "\n",
    "        # Append the next values to the lists\n",
    "        x_values.append(x_next)\n",
    "        y_values.append(y_next)\n",
    "        z_values.append(z_next)\n",
    "        print(f\"i={i}\\tx={x}\\ty={y}\\tz={z}\")\n",
    "    return x_values, y_values, z_values\n",
    "\n",
    "# Initial conditions\n",
    "x0 = 1.5\n",
    "y0 = 2\n",
    "z0 = 24\n",
    "\n",
    "# Step size and number of steps\n",
    "h = 0.1\n",
    "num_steps = 4  # You can adjust this value for more accurate results\n",
    "\n",
    "# Applying the Euler method\n",
    "x_values, y_values, z_values = euler_method(x0, y0, z0, h, num_steps)\n",
    "\n"
   ]
  },
  {
   "cell_type": "code",
   "execution_count": 122,
   "metadata": {},
   "outputs": [
    {
     "name": "stdout",
     "output_type": "stream",
     "text": [
      "0\t0.0\t2.0\n",
      "1\t0.5\t2.0\n",
      "2\t1.0\t-1.0\n",
      "3\t1.5\t-2.5\n",
      "[0.         0.5        1.         1.5        2.         0.55555556\n",
      " 0.66666667 0.77777778 0.88888889 1.        ] [  2.       2.      -1.      -2.5    -16.5625   0.       0.       0.\n",
      "   0.       0.    ]\n"
     ]
    }
   ],
   "source": [
    "def func(x,t):\n",
    "    dxdt = -3*t**2*x\n",
    "    return dxdt\n",
    "\n",
    "x0 = 0.0\n",
    "y0 = 2.0\n",
    "x = np.linspace(0, 1, 10)\n",
    "y = np.zeros(10)\n",
    "y[0] = y0\n",
    "x[0] = x0\n",
    "h = 0.5\n",
    "for i in range(1,5):\n",
    "    \n",
    "    y[i] = y[i-1] + h*func(x[i-1],y[i-1])\n",
    "    x[i] = x[i-1] + h\n",
    "    print(f\"{i-1}\\t{x[i-1]}\\t{y[i-1]}\")\n",
    "\n",
    "print(x,y)"
   ]
  },
  {
   "cell_type": "code",
   "execution_count": 135,
   "metadata": {},
   "outputs": [
    {
     "data": {
      "text/plain": [
       "array([3.7128443])"
      ]
     },
     "execution_count": 135,
     "metadata": {},
     "output_type": "execute_result"
    }
   ],
   "source": [
    "def func(x,y):\n",
    "    return 5*y/(1+x)\n",
    "y0 = 1\n",
    "h = 0.1\n",
    "sol = solve_ivp(func, [0, 3], [y0], dense_output=True)\n",
    "sol.sol(0.3)"
   ]
  },
  {
   "cell_type": "code",
   "execution_count": 136,
   "metadata": {},
   "outputs": [
    {
     "name": "stdout",
     "output_type": "stream",
     "text": [
      "i=0\tx=0\ty=1\tz=-2\n",
      "i=1\tx=0.2\ty=0.6\tz=-2.2\n",
      "i=2\tx=0.4\ty=0.15999999999999992\tz=-2.3168\n",
      "i=3\tx=0.6000000000000001\ty=-0.30336000000000013\tz=-2.447296\n"
     ]
    }
   ],
   "source": [
    "def euler_method(x0, y0, z0, h, num_steps):\n",
    "    # Initialize lists to store the results\n",
    "    x_values = [x0]\n",
    "    y_values = [y0]\n",
    "    z_values = [z0]\n",
    "\n",
    "    # Perform the Euler method iterations\n",
    "    for i in range(num_steps):\n",
    "        x = x_values[-1]\n",
    "        y = y_values[-1]\n",
    "        z = z_values[-1]\n",
    "\n",
    "        dy_dt = z\n",
    "        dz_dt = 3*x*y**2 - z -3\n",
    "\n",
    "        x_next = x + h\n",
    "        y_next = y + h * dy_dt\n",
    "        z_next = z + h * dz_dt\n",
    "\n",
    "        # Append the next values to the lists\n",
    "        x_values.append(x_next)\n",
    "        y_values.append(y_next)\n",
    "        z_values.append(z_next)\n",
    "        print(f\"i={i}\\tx={x}\\ty={y}\\tz={z}\")\n",
    "    return x_values, y_values, z_values\n",
    "\n",
    "# Initial conditions\n",
    "x0 = 0\n",
    "y0 = 1\n",
    "z0 = -2\n",
    "\n",
    "# Step size and number of steps\n",
    "h = 0.2\n",
    "num_steps = 4  # You can adjust this value for more accurate results\n",
    "\n",
    "# Applying the Euler method\n",
    "x_values, y_values, z_values = euler_method(x0, y0, z0, h, num_steps)"
   ]
  },
  {
   "cell_type": "code",
   "execution_count": 137,
   "metadata": {},
   "outputs": [
    {
     "name": "stdout",
     "output_type": "stream",
     "text": [
      "0\t0.0\t2.0\n",
      "1\t0.5\t2.0\n",
      "2\t1.0\t-1.0\n",
      "3\t1.5\t-2.5\n",
      "[0.         0.5        1.         1.5        2.         0.55555556\n",
      " 0.66666667 0.77777778 0.88888889 1.        ] [  2.       2.      -1.      -2.5    -16.5625   0.       0.       0.\n",
      "   0.       0.    ]\n"
     ]
    }
   ],
   "source": [
    "def func(x,t):\n",
    "    dxdt = -3*(t**2)*x\n",
    "    return dxdt\n",
    "\n",
    "x0 = 0.0\n",
    "y0 = 2.0\n",
    "y[0] = y0\n",
    "x[0] = x0\n",
    "h = 0.5\n",
    "for i in range(1,5):\n",
    "    \n",
    "    y[i] = y[i-1] + h*func(x[i-1],y[i-1])\n",
    "    x[i] = x[i-1] + h\n",
    "    print(f\"{i-1}\\t{x[i-1]}\\t{y[i-1]}\")\n",
    "\n",
    "print(x,y)"
   ]
  }
 ],
 "metadata": {
  "kernelspec": {
   "display_name": "Python 3",
   "language": "python",
   "name": "python3"
  },
  "language_info": {
   "codemirror_mode": {
    "name": "ipython",
    "version": 3
   },
   "file_extension": ".py",
   "mimetype": "text/x-python",
   "name": "python",
   "nbconvert_exporter": "python",
   "pygments_lexer": "ipython3",
   "version": "3.11.4"
  },
  "orig_nbformat": 4
 },
 "nbformat": 4,
 "nbformat_minor": 2
}
