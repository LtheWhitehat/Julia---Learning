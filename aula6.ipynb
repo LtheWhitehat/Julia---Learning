{
 "cells": [
  {
   "cell_type": "code",
   "execution_count": null,
   "metadata": {},
   "outputs": [],
   "source": [
    "#Funções"
   ]
  },
  {
   "cell_type": "code",
   "execution_count": 1,
   "metadata": {},
   "outputs": [
    {
     "data": {
      "text/plain": [
       "sayhi (generic function with 1 method)"
      ]
     },
     "metadata": {},
     "output_type": "display_data"
    }
   ],
   "source": [
    "function sayhi(name)\n",
    "    println(\"Olá $name\")\n",
    "end"
   ]
  },
  {
   "cell_type": "code",
   "execution_count": 2,
   "metadata": {},
   "outputs": [
    {
     "data": {
      "text/plain": [
       "f (generic function with 1 method)"
      ]
     },
     "metadata": {},
     "output_type": "display_data"
    }
   ],
   "source": [
    "function f(x)\n",
    "    x^2\n",
    "end"
   ]
  },
  {
   "cell_type": "code",
   "execution_count": 5,
   "metadata": {},
   "outputs": [
    {
     "data": {
      "text/plain": [
       "29729014714624"
      ]
     },
     "metadata": {},
     "output_type": "display_data"
    }
   ],
   "source": [
    "f(5452432)"
   ]
  },
  {
   "cell_type": "code",
   "execution_count": 6,
   "metadata": {},
   "outputs": [
    {
     "name": "stdout",
     "output_type": "stream",
     "text": [
      "Olá C-3PO\n"
     ]
    }
   ],
   "source": [
    "sayhi(\"C-3PO\")"
   ]
  },
  {
   "cell_type": "code",
   "execution_count": 7,
   "metadata": {},
   "outputs": [
    {
     "data": {
      "text/plain": [
       "sayhi2 (generic function with 1 method)"
      ]
     },
     "metadata": {},
     "output_type": "display_data"
    }
   ],
   "source": [
    "f2(x) = x^2\n",
    "sayhi2(name) = println(\"Olá $name. PRazer te conhecer\")"
   ]
  },
  {
   "cell_type": "code",
   "execution_count": 9,
   "metadata": {},
   "outputs": [
    {
     "name": "stdout",
     "output_type": "stream",
     "text": [
      "Olá R2 D2. PRazer te conhecer\n"
     ]
    }
   ],
   "source": [
    "sayhi2(\"R2 D2\")"
   ]
  },
  {
   "cell_type": "code",
   "execution_count": 10,
   "metadata": {},
   "outputs": [
    {
     "data": {
      "text/plain": [
       "1764"
      ]
     },
     "metadata": {},
     "output_type": "display_data"
    }
   ],
   "source": [
    "f2(42)"
   ]
  },
  {
   "cell_type": "code",
   "execution_count": 16,
   "metadata": {},
   "outputs": [
    {
     "data": {
      "text/plain": [
       "#25 (generic function with 1 method)"
      ]
     },
     "metadata": {},
     "output_type": "display_data"
    }
   ],
   "source": [
    "sayhi3 = name -> println(\"Olá $name. Prazer te conhecer\")\n",
    "f4 = x -> x^2\n"
   ]
  },
  {
   "cell_type": "code",
   "execution_count": 17,
   "metadata": {},
   "outputs": [
    {
     "data": {
      "text/plain": [
       "1764"
      ]
     },
     "metadata": {},
     "output_type": "display_data"
    }
   ],
   "source": [
    "f4(42)"
   ]
  },
  {
   "cell_type": "code",
   "execution_count": 18,
   "metadata": {},
   "outputs": [
    {
     "name": "stdout",
     "output_type": "stream",
     "text": [
      "Olá 424242. Prazer te conhecer\n"
     ]
    }
   ],
   "source": [
    "sayhi3(424242)"
   ]
  },
  {
   "cell_type": "code",
   "execution_count": 20,
   "metadata": {},
   "outputs": [
    {
     "data": {
      "text/plain": [
       "3×3 Matrix{Float64}:\n",
       " 0.238048  0.156082  0.438097\n",
       " 0.985855  0.138764  0.964267\n",
       " 0.101329  0.721591  0.182977"
      ]
     },
     "metadata": {},
     "output_type": "display_data"
    }
   ],
   "source": [
    "B = rand(3,3)\n",
    "B"
   ]
  },
  {
   "cell_type": "code",
   "execution_count": 21,
   "metadata": {},
   "outputs": [
    {
     "data": {
      "text/plain": [
       "3×3 Matrix{Float64}:\n",
       " 0.254933  0.374941  0.334955\n",
       " 0.46919   0.868936  0.742144\n",
       " 0.754046  0.247981  0.773679"
      ]
     },
     "metadata": {},
     "output_type": "display_data"
    }
   ],
   "source": [
    "f(B)"
   ]
  },
  {
   "cell_type": "code",
   "execution_count": 22,
   "metadata": {},
   "outputs": [
    {
     "ename": "MethodError",
     "evalue": "MethodError: no method matching ^(::Vector{Float64}, ::Int64)\n\nClosest candidates are:\n  ^(!Matched::Union{AbstractChar, AbstractString}, ::Integer)\n   @ Base strings\\basic.jl:733\n  ^(!Matched::LinearAlgebra.Hermitian, ::Integer)\n   @ LinearAlgebra C:\\Users\\Lenovo\\AppData\\Local\\Programs\\Julia-1.9.1\\share\\julia\\stdlib\\v1.9\\LinearAlgebra\\src\\symmetric.jl:697\n  ^(!Matched::LinearAlgebra.Hermitian{T, S} where S<:(AbstractMatrix{<:T}), ::Real) where T\n   @ LinearAlgebra C:\\Users\\Lenovo\\AppData\\Local\\Programs\\Julia-1.9.1\\share\\julia\\stdlib\\v1.9\\LinearAlgebra\\src\\symmetric.jl:708\n  ...\n",
     "output_type": "error",
     "traceback": [
      "MethodError: no method matching ^(::Vector{Float64}, ::Int64)\n",
      "\n",
      "Closest candidates are:\n",
      "  ^(!Matched::Union{AbstractChar, AbstractString}, ::Integer)\n",
      "   @ Base strings\\basic.jl:733\n",
      "  ^(!Matched::LinearAlgebra.Hermitian, ::Integer)\n",
      "   @ LinearAlgebra C:\\Users\\Lenovo\\AppData\\Local\\Programs\\Julia-1.9.1\\share\\julia\\stdlib\\v1.9\\LinearAlgebra\\src\\symmetric.jl:697\n",
      "  ^(!Matched::LinearAlgebra.Hermitian{T, S} where S<:(AbstractMatrix{<:T}), ::Real) where T\n",
      "   @ LinearAlgebra C:\\Users\\Lenovo\\AppData\\Local\\Programs\\Julia-1.9.1\\share\\julia\\stdlib\\v1.9\\LinearAlgebra\\src\\symmetric.jl:708\n",
      "  ...\n",
      "\n",
      "\n",
      "Stacktrace:\n",
      " [1] literal_pow\n",
      "   @ .\\intfuncs.jl:338 [inlined]\n",
      " [2] f(x::Vector{Float64})\n",
      "   @ Main c:\\Users\\Lenovo\\Documents\\Coding Projects\\Julia - Learning\\aula6.ipynb:2\n",
      " [3] top-level scope\n",
      "   @ c:\\Users\\Lenovo\\Documents\\Coding Projects\\Julia - Learning\\aula6.ipynb:2"
     ]
    }
   ],
   "source": [
    "V = rand(3)\n",
    "f(V)"
   ]
  },
  {
   "cell_type": "code",
   "execution_count": 23,
   "metadata": {},
   "outputs": [
    {
     "data": {
      "text/plain": [
       "4-element Vector{Float64}:\n",
       " 0.1002504124289948\n",
       " 0.8902528567082727\n",
       " 0.696332833671351\n",
       " 0.2683237648839696"
      ]
     },
     "metadata": {},
     "output_type": "display_data"
    }
   ],
   "source": [
    "# funções mutaveis terminam com ! (bang) as não mutaveis não tem bang\n",
    "v =rand(4)"
   ]
  },
  {
   "cell_type": "code",
   "execution_count": 25,
   "metadata": {},
   "outputs": [
    {
     "data": {
      "text/plain": [
       "4-element Vector{Float64}:\n",
       " 0.1002504124289948\n",
       " 0.2683237648839696\n",
       " 0.696332833671351\n",
       " 0.8902528567082727"
      ]
     },
     "metadata": {},
     "output_type": "display_data"
    },
    {
     "data": {
      "text/plain": [
       "4-element Vector{Float64}:\n",
       " 0.1002504124289948\n",
       " 0.8902528567082727\n",
       " 0.696332833671351\n",
       " 0.2683237648839696"
      ]
     },
     "metadata": {},
     "output_type": "display_data"
    }
   ],
   "source": [
    "display(sort(v))\n",
    "display(v)"
   ]
  },
  {
   "cell_type": "code",
   "execution_count": 26,
   "metadata": {},
   "outputs": [
    {
     "data": {
      "text/plain": [
       "4-element Vector{Float64}:\n",
       " 0.1002504124289948\n",
       " 0.2683237648839696\n",
       " 0.696332833671351\n",
       " 0.8902528567082727"
      ]
     },
     "metadata": {},
     "output_type": "display_data"
    }
   ],
   "source": [
    "sort!(v)\n",
    "display(v)"
   ]
  },
  {
   "cell_type": "code",
   "execution_count": 27,
   "metadata": {},
   "outputs": [
    {
     "data": {
      "text/plain": [
       "4-element Vector{Float64}:\n",
       " 0.010050145192183554\n",
       " 0.07199764280150779\n",
       " 0.48487941524877337\n",
       " 0.7925501488772403"
      ]
     },
     "metadata": {},
     "output_type": "display_data"
    }
   ],
   "source": [
    "# Broadcasting . indica que a função vai se propagar pelo input\n",
    "f.(v)"
   ]
  },
  {
   "cell_type": "code",
   "execution_count": null,
   "metadata": {},
   "outputs": [],
   "source": []
  }
 ],
 "metadata": {
  "kernelspec": {
   "display_name": "Julia 1.9.1",
   "language": "julia",
   "name": "julia-1.9"
  },
  "language_info": {
   "file_extension": ".jl",
   "mimetype": "application/julia",
   "name": "julia",
   "version": "1.9.1"
  },
  "orig_nbformat": 4
 },
 "nbformat": 4,
 "nbformat_minor": 2
}
